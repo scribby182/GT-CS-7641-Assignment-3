{
 "cells": [
  {
   "cell_type": "code",
   "execution_count": 1,
   "metadata": {},
   "outputs": [],
   "source": [
    "%load_ext autoreload\n",
    "%autoreload 2"
   ]
  },
  {
   "cell_type": "code",
   "execution_count": 11,
   "metadata": {},
   "outputs": [],
   "source": [
    "import os\n",
    "import copy\n",
    "import pickle\n",
    "\n",
    "import pandas as pd\n",
    "import numpy as np\n",
    "import matplotlib.pyplot as plt\n",
    "from matplotlib.ticker import MaxNLocator\n",
    "\n",
    "from sklearn.datasets import make_classification\n",
    "\n",
    "from sklearn.model_selection import train_test_split, GridSearchCV\n",
    "\n",
    "from sklearn.neural_network import MLPClassifier\n",
    "from sklearn.preprocessing import StandardScaler\n",
    "from sklearn.pipeline import Pipeline\n",
    "from sklearn.externals import joblib\n",
    "from sklearn.decomposition import PCA, FastICA\n",
    "\n",
    "from time import perf_counter\n",
    "\n",
    "import umap\n",
    "\n",
    "from utilities import get_reconstruction_error, get_pca_components_for_var, df_to_heatmap"
   ]
  },
  {
   "cell_type": "code",
   "execution_count": 12,
   "metadata": {},
   "outputs": [],
   "source": [
    "# Import shared settings\n",
    "from settings import random_state, n_jobs, nSamples, max_iter, test_size, class_sep\n",
    "# Override settings\n",
    "#..."
   ]
  },
  {
   "cell_type": "code",
   "execution_count": 13,
   "metadata": {},
   "outputs": [],
   "source": [
    "# Used for plot names\n",
    "dim_red_name = \"nn_all_features\"\n",
    "casename = f\"synthetic_{dim_red_name}\"\n",
    "# scoreText = \"Score (Classification Accuracy)\""
   ]
  },
  {
   "cell_type": "markdown",
   "metadata": {},
   "source": [
    "# Generate Data"
   ]
  },
  {
   "cell_type": "code",
   "execution_count": 14,
   "metadata": {},
   "outputs": [
    {
     "name": "stdout",
     "output_type": "stream",
     "text": [
      "\n",
      "X.shape = (2000, 40)\n",
      "y.shape = (2000,)\n",
      "Fraction of training data for each label = \n",
      "\tData labelled 0 = 0.165\n",
      "\tData labelled 1 = 0.169\n",
      "\tData labelled 2 = 0.17\n",
      "\tData labelled 3 = 0.1635\n",
      "\tData labelled 4 = 0.166\n",
      "\tData labelled 5 = 0.1665\n",
      "\n",
      "X_test.shape = (500, 40)\n",
      "y_test.shape = (500,)\n",
      "Fraction of testing data for each label = \n",
      "\tData labelled 0 = 0.165\n",
      "\tData labelled 1 = 0.169\n",
      "\tData labelled 2 = 0.17\n",
      "\tData labelled 3 = 0.1635\n",
      "\tData labelled 4 = 0.166\n",
      "\tData labelled 5 = 0.1665\n"
     ]
    }
   ],
   "source": [
    "X_full, y_full = make_classification(n_samples=nSamples, n_features=40, n_informative=10, n_redundant=5, n_classes=6, random_state=random_state, class_sep=class_sep)\n",
    "\n",
    "X, X_test, y, y_test = train_test_split(X_full, y_full, test_size=test_size, \n",
    "                                      random_state=random_state, stratify=y_full)\n",
    "\n",
    "print('')\n",
    "print(f'X.shape = {X.shape}')\n",
    "print(f'y.shape = {y.shape}')\n",
    "print(\"Fraction of training data for each label = \")\n",
    "for label in np.unique(y):\n",
    "    print(f'\\tData labelled {label} = {(y == label).sum() / float(len(y))}')\n",
    "\n",
    "print('')\n",
    "print(f'X_test.shape = {X_test.shape}')\n",
    "print(f'y_test.shape = {y_test.shape}')\n",
    "print(\"Fraction of testing data for each label = \")\n",
    "for label in np.unique(y):\n",
    "    print(f'\\tData labelled {label} = {(y == label).sum() / float(len(y))}')"
   ]
  },
  {
   "cell_type": "markdown",
   "metadata": {},
   "source": [
    "# Fit using MLP through GS"
   ]
  },
  {
   "cell_type": "code",
   "execution_count": 15,
   "metadata": {},
   "outputs": [],
   "source": [
    "pipe = Pipeline([('scaler', StandardScaler()),\n",
    "                  ('mlp', MLPClassifier(max_iter=max_iter, random_state=random_state))])\n",
    "\n",
    "hidden_layer_sizes = [(2, ), (6, ), (10, ), (15,)]\n",
    "param_grid = {\n",
    "             'mlp__hidden_layer_sizes': hidden_layer_sizes,\n",
    "             }\n",
    "gs = GridSearchCV(pipe, param_grid=param_grid, verbose=10, cv=3, return_train_score=True, \n",
    "                  n_jobs=n_jobs)"
   ]
  },
  {
   "cell_type": "code",
   "execution_count": 16,
   "metadata": {},
   "outputs": [
    {
     "name": "stdout",
     "output_type": "stream",
     "text": [
      "Fitting 3 folds for each of 4 candidates, totalling 12 fits\n"
     ]
    },
    {
     "name": "stderr",
     "output_type": "stream",
     "text": [
      "[Parallel(n_jobs=-1)]: Using backend LokyBackend with 8 concurrent workers.\n",
      "[Parallel(n_jobs=-1)]: Done   1 tasks      | elapsed:  1.0min\n",
      "[Parallel(n_jobs=-1)]: Done   3 out of  12 | elapsed:  1.3min remaining:  3.9min\n",
      "[Parallel(n_jobs=-1)]: Done   5 out of  12 | elapsed:  1.3min remaining:  1.9min\n",
      "[Parallel(n_jobs=-1)]: Done   7 out of  12 | elapsed:  1.5min remaining:  1.0min\n",
      "[Parallel(n_jobs=-1)]: Done   9 out of  12 | elapsed:  1.5min remaining:   30.7s\n",
      "[Parallel(n_jobs=-1)]: Done  12 out of  12 | elapsed:  1.8min finished\n"
     ]
    },
    {
     "data": {
      "text/plain": [
       "['synthetic_nn_all_features_gs.pkl']"
      ]
     },
     "execution_count": 16,
     "metadata": {},
     "output_type": "execute_result"
    }
   ],
   "source": [
    "gs.fit(X, y)\n",
    "joblib.dump(gs, casename + \"_gs.pkl\")"
   ]
  },
  {
   "cell_type": "code",
   "execution_count": 17,
   "metadata": {},
   "outputs": [],
   "source": [
    "results = pd.DataFrame(gs.cv_results_)\n",
    "results.to_csv(casename + \"_results.csv\")"
   ]
  },
  {
   "cell_type": "code",
   "execution_count": 19,
   "metadata": {},
   "outputs": [
    {
     "data": {
      "text/html": [
       "<div>\n",
       "<style scoped>\n",
       "    .dataframe tbody tr th:only-of-type {\n",
       "        vertical-align: middle;\n",
       "    }\n",
       "\n",
       "    .dataframe tbody tr th {\n",
       "        vertical-align: top;\n",
       "    }\n",
       "\n",
       "    .dataframe thead th {\n",
       "        text-align: right;\n",
       "    }\n",
       "</style>\n",
       "<table border=\"1\" class=\"dataframe\">\n",
       "  <thead>\n",
       "    <tr style=\"text-align: right;\">\n",
       "      <th></th>\n",
       "      <th>param_mlp__hidden_layer_sizes</th>\n",
       "      <th>mean_test_score</th>\n",
       "      <th>mean_train_score</th>\n",
       "    </tr>\n",
       "  </thead>\n",
       "  <tbody>\n",
       "    <tr>\n",
       "      <th>0</th>\n",
       "      <td>(2,)</td>\n",
       "      <td>0.6345</td>\n",
       "      <td>0.662744</td>\n",
       "    </tr>\n",
       "    <tr>\n",
       "      <th>1</th>\n",
       "      <td>(6,)</td>\n",
       "      <td>0.8055</td>\n",
       "      <td>0.891742</td>\n",
       "    </tr>\n",
       "    <tr>\n",
       "      <th>2</th>\n",
       "      <td>(10,)</td>\n",
       "      <td>0.7795</td>\n",
       "      <td>0.968255</td>\n",
       "    </tr>\n",
       "    <tr>\n",
       "      <th>3</th>\n",
       "      <td>(15,)</td>\n",
       "      <td>0.7810</td>\n",
       "      <td>0.998500</td>\n",
       "    </tr>\n",
       "  </tbody>\n",
       "</table>\n",
       "</div>"
      ],
      "text/plain": [
       "  param_mlp__hidden_layer_sizes  mean_test_score  mean_train_score\n",
       "0                          (2,)           0.6345          0.662744\n",
       "1                          (6,)           0.8055          0.891742\n",
       "2                         (10,)           0.7795          0.968255\n",
       "3                         (15,)           0.7810          0.998500"
      ]
     },
     "execution_count": 19,
     "metadata": {},
     "output_type": "execute_result"
    }
   ],
   "source": [
    "results.loc[:, [\"param_mlp__hidden_layer_sizes\", \"mean_test_score\", \"mean_train_score\"]]"
   ]
  }
 ],
 "metadata": {
  "kernelspec": {
   "display_name": "Python 3",
   "language": "python",
   "name": "python3"
  },
  "language_info": {
   "codemirror_mode": {
    "name": "ipython",
    "version": 3
   },
   "file_extension": ".py",
   "mimetype": "text/x-python",
   "name": "python",
   "nbconvert_exporter": "python",
   "pygments_lexer": "ipython3",
   "version": "3.7.2"
  }
 },
 "nbformat": 4,
 "nbformat_minor": 2
}
