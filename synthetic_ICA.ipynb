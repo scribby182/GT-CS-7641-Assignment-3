{
 "cells": [
  {
   "cell_type": "code",
   "execution_count": 15,
   "metadata": {},
   "outputs": [
    {
     "name": "stdout",
     "output_type": "stream",
     "text": [
      "The autoreload extension is already loaded. To reload it, use:\n",
      "  %reload_ext autoreload\n"
     ]
    }
   ],
   "source": [
    "%load_ext autoreload\n",
    "%autoreload 2"
   ]
  },
  {
   "cell_type": "code",
   "execution_count": 89,
   "metadata": {},
   "outputs": [],
   "source": [
    "import os\n",
    "import copy\n",
    "import pickle\n",
    "\n",
    "import pandas as pd\n",
    "import numpy as np\n",
    "import matplotlib.pyplot as plt\n",
    "from matplotlib.ticker import MaxNLocator\n",
    "\n",
    "from sklearn.datasets import make_classification\n",
    "\n",
    "from sklearn.model_selection import train_test_split, GridSearchCV\n",
    "\n",
    "from sklearn.neural_network import MLPClassifier\n",
    "from sklearn.preprocessing import StandardScaler\n",
    "from sklearn.pipeline import Pipeline\n",
    "from sklearn.externals import joblib\n",
    "from sklearn.decomposition import PCA, FastICA\n",
    "\n",
    "from time import perf_counter\n",
    "\n",
    "import umap\n",
    "\n",
    "from utilities import get_reconstruction_error, get_pca_components_for_var, df_to_heatmap, get_max_along_df_axis"
   ]
  },
  {
   "cell_type": "code",
   "execution_count": 90,
   "metadata": {},
   "outputs": [],
   "source": [
    "# Set n_components to be used during grid searching (was set here based on PCA)\n",
    "n_components = [2, 3, 4, 5, 13, 23, 27, 30, 32, 35, 40]"
   ]
  },
  {
   "cell_type": "code",
   "execution_count": 91,
   "metadata": {},
   "outputs": [],
   "source": [
    "# Import shared settings\n",
    "from settings import random_state, n_jobs, nSamples, max_iter, test_size, class_sep\n",
    "# Override settings\n",
    "#..."
   ]
  },
  {
   "cell_type": "code",
   "execution_count": 92,
   "metadata": {},
   "outputs": [],
   "source": [
    "# Used for plot names\n",
    "dim_red_name = \"ica\"\n",
    "casename = f\"synthetic_{dim_red_name}\"\n",
    "# scoreText = \"Score (Classification Accuracy)\""
   ]
  },
  {
   "cell_type": "markdown",
   "metadata": {},
   "source": [
    "# Generate Data"
   ]
  },
  {
   "cell_type": "code",
   "execution_count": 93,
   "metadata": {},
   "outputs": [
    {
     "name": "stdout",
     "output_type": "stream",
     "text": [
      "\n",
      "X.shape = (2000, 40)\n",
      "y.shape = (2000,)\n",
      "Fraction of training data for each label = \n",
      "\tData labelled 0 = 0.165\n",
      "\tData labelled 1 = 0.169\n",
      "\tData labelled 2 = 0.17\n",
      "\tData labelled 3 = 0.1635\n",
      "\tData labelled 4 = 0.166\n",
      "\tData labelled 5 = 0.1665\n",
      "\n",
      "X_test.shape = (500, 40)\n",
      "y_test.shape = (500,)\n",
      "Fraction of testing data for each label = \n",
      "\tData labelled 0 = 0.165\n",
      "\tData labelled 1 = 0.169\n",
      "\tData labelled 2 = 0.17\n",
      "\tData labelled 3 = 0.1635\n",
      "\tData labelled 4 = 0.166\n",
      "\tData labelled 5 = 0.1665\n"
     ]
    }
   ],
   "source": [
    "X_full, y_full = make_classification(n_samples=nSamples, n_features=40, n_informative=10, n_redundant=5, n_classes=6, random_state=random_state, class_sep=class_sep)\n",
    "\n",
    "X, X_test, y, y_test = train_test_split(X_full, y_full, test_size=test_size, \n",
    "                                      random_state=random_state, stratify=y_full)\n",
    "\n",
    "print('')\n",
    "print(f'X.shape = {X.shape}')\n",
    "print(f'y.shape = {y.shape}')\n",
    "print(\"Fraction of training data for each label = \")\n",
    "for label in np.unique(y):\n",
    "    print(f'\\tData labelled {label} = {(y == label).sum() / float(len(y))}')\n",
    "\n",
    "print('')\n",
    "print(f'X_test.shape = {X_test.shape}')\n",
    "print(f'y_test.shape = {y_test.shape}')\n",
    "print(\"Fraction of testing data for each label = \")\n",
    "for label in np.unique(y):\n",
    "    print(f'\\tData labelled {label} = {(y == label).sum() / float(len(y))}')"
   ]
  },
  {
   "cell_type": "markdown",
   "metadata": {},
   "source": [
    "# Reconstruction Error"
   ]
  },
  {
   "cell_type": "code",
   "execution_count": 87,
   "metadata": {},
   "outputs": [
    {
     "name": "stderr",
     "output_type": "stream",
     "text": [
      "C:\\Users\\Scribs\\Anaconda3\\lib\\site-packages\\sklearn\\decomposition\\fastica_.py:121: ConvergenceWarning: FastICA did not converge. Consider increasing tolerance or the maximum number of iterations.\n",
      "  ConvergenceWarning)\n",
      "C:\\Users\\Scribs\\Anaconda3\\lib\\site-packages\\sklearn\\decomposition\\fastica_.py:121: ConvergenceWarning: FastICA did not converge. Consider increasing tolerance or the maximum number of iterations.\n",
      "  ConvergenceWarning)\n",
      "C:\\Users\\Scribs\\Anaconda3\\lib\\site-packages\\sklearn\\decomposition\\fastica_.py:121: ConvergenceWarning: FastICA did not converge. Consider increasing tolerance or the maximum number of iterations.\n",
      "  ConvergenceWarning)\n",
      "C:\\Users\\Scribs\\Anaconda3\\lib\\site-packages\\sklearn\\decomposition\\fastica_.py:121: ConvergenceWarning: FastICA did not converge. Consider increasing tolerance or the maximum number of iterations.\n",
      "  ConvergenceWarning)\n",
      "C:\\Users\\Scribs\\Anaconda3\\lib\\site-packages\\sklearn\\decomposition\\fastica_.py:121: ConvergenceWarning: FastICA did not converge. Consider increasing tolerance or the maximum number of iterations.\n",
      "  ConvergenceWarning)\n",
      "C:\\Users\\Scribs\\Anaconda3\\lib\\site-packages\\sklearn\\decomposition\\fastica_.py:121: ConvergenceWarning: FastICA did not converge. Consider increasing tolerance or the maximum number of iterations.\n",
      "  ConvergenceWarning)\n",
      "C:\\Users\\Scribs\\Anaconda3\\lib\\site-packages\\sklearn\\decomposition\\fastica_.py:121: ConvergenceWarning: FastICA did not converge. Consider increasing tolerance or the maximum number of iterations.\n",
      "  ConvergenceWarning)\n"
     ]
    },
    {
     "data": {
      "text/plain": [
       "['synthetic_ica_reconstruction_error.pkl']"
      ]
     },
     "execution_count": 87,
     "metadata": {},
     "output_type": "execute_result"
    }
   ],
   "source": [
    "# n_components = [2, 3, 4, 5, 7, 10, 13, 15, 20, 25, 30, 35, 40]\n",
    "reconstruction_error = np.zeros(len(n_components))\n",
    "for i, this_n in enumerate(n_components):\n",
    "    pipe_reconstruction = Pipeline([('scaler', StandardScaler()), \n",
    "                                       (f'{dim_red_name}', FastICA(random_state=random_state, n_components=this_n, max_iter=10000))])\n",
    "    pipe_reconstruction.fit(X)\n",
    "    reconstruction_error[i] = get_reconstruction_error(X, pipe_reconstruction)\n",
    "joblib.dump(np.array((n_components, reconstruction_error)).T, f'{casename}_reconstruction_error.pkl')"
   ]
  },
  {
   "cell_type": "markdown",
   "metadata": {},
   "source": [
    "# Run MLP using results of ICA through Grid Search"
   ]
  },
  {
   "cell_type": "code",
   "execution_count": 94,
   "metadata": {},
   "outputs": [],
   "source": [
    "pipe = Pipeline([('scaler', StandardScaler()),\n",
    "                  (f'{dim_red_name}', FastICA(random_state=random_state, max_iter=max_iter)),\n",
    "                  ('mlp', MLPClassifier(max_iter=max_iter, random_state=random_state))])\n",
    "\n",
    "#                  [0.5, 0.75, 0.9, 0.95, 0.99]\n",
    "hidden_layer_sizes = [(2, ), (6, ), (10, ), (15, )]\n",
    "param_grid = {f'{dim_red_name}__n_components': n_components,\n",
    "             'mlp__hidden_layer_sizes': hidden_layer_sizes,\n",
    "             }\n",
    "gs = GridSearchCV(pipe, param_grid=param_grid, verbose=10, cv=3, return_train_score=True, \n",
    "                  n_jobs=n_jobs)"
   ]
  },
  {
   "cell_type": "code",
   "execution_count": 95,
   "metadata": {},
   "outputs": [
    {
     "name": "stdout",
     "output_type": "stream",
     "text": [
      "Fitting 3 folds for each of 44 candidates, totalling 132 fits\n"
     ]
    },
    {
     "name": "stderr",
     "output_type": "stream",
     "text": [
      "[Parallel(n_jobs=-1)]: Using backend LokyBackend with 8 concurrent workers.\n",
      "[Parallel(n_jobs=-1)]: Done   2 tasks      | elapsed:   10.0s\n",
      "[Parallel(n_jobs=-1)]: Done   9 tasks      | elapsed:   14.6s\n",
      "[Parallel(n_jobs=-1)]: Done  16 tasks      | elapsed:   19.3s\n",
      "[Parallel(n_jobs=-1)]: Done  25 tasks      | elapsed:   30.2s\n",
      "[Parallel(n_jobs=-1)]: Done  34 tasks      | elapsed:   37.8s\n",
      "[Parallel(n_jobs=-1)]: Done  45 tasks      | elapsed:   49.8s\n",
      "[Parallel(n_jobs=-1)]: Done  56 tasks      | elapsed:  1.0min\n",
      "[Parallel(n_jobs=-1)]: Done  69 tasks      | elapsed:  1.5min\n",
      "[Parallel(n_jobs=-1)]: Done  82 tasks      | elapsed:  2.0min\n",
      "[Parallel(n_jobs=-1)]: Done  97 tasks      | elapsed:  2.6min\n",
      "[Parallel(n_jobs=-1)]: Done 112 tasks      | elapsed:  3.3min\n",
      "[Parallel(n_jobs=-1)]: Done 132 out of 132 | elapsed:  4.2min finished\n",
      "C:\\Users\\Scribs\\Anaconda3\\lib\\site-packages\\sklearn\\decomposition\\fastica_.py:121: ConvergenceWarning: FastICA did not converge. Consider increasing tolerance or the maximum number of iterations.\n",
      "  ConvergenceWarning)\n"
     ]
    },
    {
     "data": {
      "text/plain": [
       "GridSearchCV(cv=3, error_score='raise-deprecating',\n",
       "       estimator=Pipeline(memory=None,\n",
       "     steps=[('scaler', StandardScaler(copy=True, with_mean=True, with_std=True)), ('ica', FastICA(algorithm='parallel', fun='logcosh', fun_args=None, max_iter=3000,\n",
       "    n_components=None, random_state=1, tol=0.0001, w_init=None,\n",
       "    whiten=True)), ('mlp', MLPClassifier(activation='relu', alpha=0.0001, ba...=True, solver='adam', tol=0.0001,\n",
       "       validation_fraction=0.1, verbose=False, warm_start=False))]),\n",
       "       fit_params=None, iid='warn', n_jobs=-1,\n",
       "       param_grid={'ica__n_components': [2, 3, 4, 5, 13, 23, 27, 30, 32, 35, 40], 'mlp__hidden_layer_sizes': [(2,), (6,), (10,), (15,)]},\n",
       "       pre_dispatch='2*n_jobs', refit=True, return_train_score=True,\n",
       "       scoring=None, verbose=10)"
      ]
     },
     "execution_count": 95,
     "metadata": {},
     "output_type": "execute_result"
    }
   ],
   "source": [
    "gs.fit(X, y)"
   ]
  },
  {
   "cell_type": "code",
   "execution_count": 96,
   "metadata": {},
   "outputs": [
    {
     "data": {
      "text/plain": [
       "['synthetic_ica_gs.pkl']"
      ]
     },
     "execution_count": 96,
     "metadata": {},
     "output_type": "execute_result"
    }
   ],
   "source": [
    "joblib.dump(gs, casename + \"_gs.pkl\")"
   ]
  },
  {
   "cell_type": "code",
   "execution_count": 97,
   "metadata": {},
   "outputs": [
    {
     "data": {
      "text/plain": [
       "Pipeline(memory=None,\n",
       "     steps=[('scaler', StandardScaler(copy=True, with_mean=True, with_std=True)), ('ica', FastICA(algorithm='parallel', fun='logcosh', fun_args=None, max_iter=3000,\n",
       "    n_components=35, random_state=1, tol=0.0001, w_init=None, whiten=True)), ('mlp', MLPClassifier(activation='relu', alpha=0.0001, batch_si...=True, solver='adam', tol=0.0001,\n",
       "       validation_fraction=0.1, verbose=False, warm_start=False))])"
      ]
     },
     "execution_count": 97,
     "metadata": {},
     "output_type": "execute_result"
    }
   ],
   "source": [
    "gs.best_estimator_"
   ]
  },
  {
   "cell_type": "code",
   "execution_count": 98,
   "metadata": {},
   "outputs": [],
   "source": [
    "results = pd.DataFrame(gs.cv_results_)\n",
    "results.to_csv(casename + \"_results.csv\")"
   ]
  },
  {
   "cell_type": "code",
   "execution_count": 99,
   "metadata": {},
   "outputs": [
    {
     "data": {
      "text/html": [
       "<div>\n",
       "<style scoped>\n",
       "    .dataframe tbody tr th:only-of-type {\n",
       "        vertical-align: middle;\n",
       "    }\n",
       "\n",
       "    .dataframe tbody tr th {\n",
       "        vertical-align: top;\n",
       "    }\n",
       "\n",
       "    .dataframe thead th {\n",
       "        text-align: right;\n",
       "    }\n",
       "</style>\n",
       "<table border=\"1\" class=\"dataframe\">\n",
       "  <thead>\n",
       "    <tr style=\"text-align: right;\">\n",
       "      <th></th>\n",
       "      <th>param_mlp__hidden_layer_sizes</th>\n",
       "      <th>param_ica__n_components</th>\n",
       "      <th>mean_test_score</th>\n",
       "      <th>mean_train_score</th>\n",
       "    </tr>\n",
       "  </thead>\n",
       "  <tbody>\n",
       "    <tr>\n",
       "      <th>0</th>\n",
       "      <td>(2,)</td>\n",
       "      <td>2</td>\n",
       "      <td>0.1635</td>\n",
       "      <td>0.163500</td>\n",
       "    </tr>\n",
       "    <tr>\n",
       "      <th>1</th>\n",
       "      <td>(6,)</td>\n",
       "      <td>2</td>\n",
       "      <td>0.5110</td>\n",
       "      <td>0.515505</td>\n",
       "    </tr>\n",
       "    <tr>\n",
       "      <th>2</th>\n",
       "      <td>(10,)</td>\n",
       "      <td>2</td>\n",
       "      <td>0.5155</td>\n",
       "      <td>0.519506</td>\n",
       "    </tr>\n",
       "    <tr>\n",
       "      <th>3</th>\n",
       "      <td>(15,)</td>\n",
       "      <td>2</td>\n",
       "      <td>0.5205</td>\n",
       "      <td>0.519504</td>\n",
       "    </tr>\n",
       "    <tr>\n",
       "      <th>4</th>\n",
       "      <td>(2,)</td>\n",
       "      <td>3</td>\n",
       "      <td>0.1690</td>\n",
       "      <td>0.169000</td>\n",
       "    </tr>\n",
       "    <tr>\n",
       "      <th>5</th>\n",
       "      <td>(6,)</td>\n",
       "      <td>3</td>\n",
       "      <td>0.5420</td>\n",
       "      <td>0.549509</td>\n",
       "    </tr>\n",
       "    <tr>\n",
       "      <th>6</th>\n",
       "      <td>(10,)</td>\n",
       "      <td>3</td>\n",
       "      <td>0.5520</td>\n",
       "      <td>0.545748</td>\n",
       "    </tr>\n",
       "    <tr>\n",
       "      <th>7</th>\n",
       "      <td>(15,)</td>\n",
       "      <td>3</td>\n",
       "      <td>0.5435</td>\n",
       "      <td>0.551510</td>\n",
       "    </tr>\n",
       "    <tr>\n",
       "      <th>8</th>\n",
       "      <td>(2,)</td>\n",
       "      <td>4</td>\n",
       "      <td>0.3730</td>\n",
       "      <td>0.369498</td>\n",
       "    </tr>\n",
       "    <tr>\n",
       "      <th>9</th>\n",
       "      <td>(6,)</td>\n",
       "      <td>4</td>\n",
       "      <td>0.5665</td>\n",
       "      <td>0.584757</td>\n",
       "    </tr>\n",
       "    <tr>\n",
       "      <th>10</th>\n",
       "      <td>(10,)</td>\n",
       "      <td>4</td>\n",
       "      <td>0.5810</td>\n",
       "      <td>0.586000</td>\n",
       "    </tr>\n",
       "    <tr>\n",
       "      <th>11</th>\n",
       "      <td>(15,)</td>\n",
       "      <td>4</td>\n",
       "      <td>0.6120</td>\n",
       "      <td>0.613518</td>\n",
       "    </tr>\n",
       "    <tr>\n",
       "      <th>12</th>\n",
       "      <td>(2,)</td>\n",
       "      <td>5</td>\n",
       "      <td>0.4170</td>\n",
       "      <td>0.411512</td>\n",
       "    </tr>\n",
       "    <tr>\n",
       "      <th>13</th>\n",
       "      <td>(6,)</td>\n",
       "      <td>5</td>\n",
       "      <td>0.5975</td>\n",
       "      <td>0.600244</td>\n",
       "    </tr>\n",
       "    <tr>\n",
       "      <th>14</th>\n",
       "      <td>(10,)</td>\n",
       "      <td>5</td>\n",
       "      <td>0.6505</td>\n",
       "      <td>0.658242</td>\n",
       "    </tr>\n",
       "    <tr>\n",
       "      <th>15</th>\n",
       "      <td>(15,)</td>\n",
       "      <td>5</td>\n",
       "      <td>0.6695</td>\n",
       "      <td>0.685250</td>\n",
       "    </tr>\n",
       "    <tr>\n",
       "      <th>16</th>\n",
       "      <td>(2,)</td>\n",
       "      <td>13</td>\n",
       "      <td>0.1650</td>\n",
       "      <td>0.165000</td>\n",
       "    </tr>\n",
       "    <tr>\n",
       "      <th>17</th>\n",
       "      <td>(6,)</td>\n",
       "      <td>13</td>\n",
       "      <td>0.6910</td>\n",
       "      <td>0.720235</td>\n",
       "    </tr>\n",
       "    <tr>\n",
       "      <th>18</th>\n",
       "      <td>(10,)</td>\n",
       "      <td>13</td>\n",
       "      <td>0.7090</td>\n",
       "      <td>0.733491</td>\n",
       "    </tr>\n",
       "    <tr>\n",
       "      <th>19</th>\n",
       "      <td>(15,)</td>\n",
       "      <td>13</td>\n",
       "      <td>0.7450</td>\n",
       "      <td>0.776255</td>\n",
       "    </tr>\n",
       "    <tr>\n",
       "      <th>20</th>\n",
       "      <td>(2,)</td>\n",
       "      <td>23</td>\n",
       "      <td>0.4205</td>\n",
       "      <td>0.420504</td>\n",
       "    </tr>\n",
       "    <tr>\n",
       "      <th>21</th>\n",
       "      <td>(6,)</td>\n",
       "      <td>23</td>\n",
       "      <td>0.6700</td>\n",
       "      <td>0.686489</td>\n",
       "    </tr>\n",
       "    <tr>\n",
       "      <th>22</th>\n",
       "      <td>(10,)</td>\n",
       "      <td>23</td>\n",
       "      <td>0.7305</td>\n",
       "      <td>0.777496</td>\n",
       "    </tr>\n",
       "    <tr>\n",
       "      <th>23</th>\n",
       "      <td>(15,)</td>\n",
       "      <td>23</td>\n",
       "      <td>0.7215</td>\n",
       "      <td>0.753991</td>\n",
       "    </tr>\n",
       "    <tr>\n",
       "      <th>24</th>\n",
       "      <td>(2,)</td>\n",
       "      <td>27</td>\n",
       "      <td>0.4045</td>\n",
       "      <td>0.405777</td>\n",
       "    </tr>\n",
       "    <tr>\n",
       "      <th>25</th>\n",
       "      <td>(6,)</td>\n",
       "      <td>27</td>\n",
       "      <td>0.6805</td>\n",
       "      <td>0.714239</td>\n",
       "    </tr>\n",
       "    <tr>\n",
       "      <th>26</th>\n",
       "      <td>(10,)</td>\n",
       "      <td>27</td>\n",
       "      <td>0.7265</td>\n",
       "      <td>0.787740</td>\n",
       "    </tr>\n",
       "    <tr>\n",
       "      <th>27</th>\n",
       "      <td>(15,)</td>\n",
       "      <td>27</td>\n",
       "      <td>0.7340</td>\n",
       "      <td>0.787740</td>\n",
       "    </tr>\n",
       "    <tr>\n",
       "      <th>28</th>\n",
       "      <td>(2,)</td>\n",
       "      <td>30</td>\n",
       "      <td>0.4155</td>\n",
       "      <td>0.413994</td>\n",
       "    </tr>\n",
       "    <tr>\n",
       "      <th>29</th>\n",
       "      <td>(6,)</td>\n",
       "      <td>30</td>\n",
       "      <td>0.7000</td>\n",
       "      <td>0.728993</td>\n",
       "    </tr>\n",
       "    <tr>\n",
       "      <th>30</th>\n",
       "      <td>(10,)</td>\n",
       "      <td>30</td>\n",
       "      <td>0.7350</td>\n",
       "      <td>0.788244</td>\n",
       "    </tr>\n",
       "    <tr>\n",
       "      <th>31</th>\n",
       "      <td>(15,)</td>\n",
       "      <td>30</td>\n",
       "      <td>0.7420</td>\n",
       "      <td>0.800732</td>\n",
       "    </tr>\n",
       "    <tr>\n",
       "      <th>32</th>\n",
       "      <td>(2,)</td>\n",
       "      <td>32</td>\n",
       "      <td>0.3900</td>\n",
       "      <td>0.401984</td>\n",
       "    </tr>\n",
       "    <tr>\n",
       "      <th>33</th>\n",
       "      <td>(6,)</td>\n",
       "      <td>32</td>\n",
       "      <td>0.7380</td>\n",
       "      <td>0.776491</td>\n",
       "    </tr>\n",
       "    <tr>\n",
       "      <th>34</th>\n",
       "      <td>(10,)</td>\n",
       "      <td>32</td>\n",
       "      <td>0.7565</td>\n",
       "      <td>0.812990</td>\n",
       "    </tr>\n",
       "    <tr>\n",
       "      <th>35</th>\n",
       "      <td>(15,)</td>\n",
       "      <td>32</td>\n",
       "      <td>0.7700</td>\n",
       "      <td>0.834245</td>\n",
       "    </tr>\n",
       "    <tr>\n",
       "      <th>36</th>\n",
       "      <td>(2,)</td>\n",
       "      <td>35</td>\n",
       "      <td>0.4080</td>\n",
       "      <td>0.411251</td>\n",
       "    </tr>\n",
       "    <tr>\n",
       "      <th>37</th>\n",
       "      <td>(6,)</td>\n",
       "      <td>35</td>\n",
       "      <td>0.6865</td>\n",
       "      <td>0.720230</td>\n",
       "    </tr>\n",
       "    <tr>\n",
       "      <th>38</th>\n",
       "      <td>(10,)</td>\n",
       "      <td>35</td>\n",
       "      <td>0.7825</td>\n",
       "      <td>0.844237</td>\n",
       "    </tr>\n",
       "    <tr>\n",
       "      <th>39</th>\n",
       "      <td>(15,)</td>\n",
       "      <td>35</td>\n",
       "      <td>0.7775</td>\n",
       "      <td>0.831989</td>\n",
       "    </tr>\n",
       "    <tr>\n",
       "      <th>40</th>\n",
       "      <td>(2,)</td>\n",
       "      <td>40</td>\n",
       "      <td>0.6525</td>\n",
       "      <td>0.674506</td>\n",
       "    </tr>\n",
       "    <tr>\n",
       "      <th>41</th>\n",
       "      <td>(6,)</td>\n",
       "      <td>40</td>\n",
       "      <td>0.7520</td>\n",
       "      <td>0.801743</td>\n",
       "    </tr>\n",
       "    <tr>\n",
       "      <th>42</th>\n",
       "      <td>(10,)</td>\n",
       "      <td>40</td>\n",
       "      <td>0.7680</td>\n",
       "      <td>0.817497</td>\n",
       "    </tr>\n",
       "    <tr>\n",
       "      <th>43</th>\n",
       "      <td>(15,)</td>\n",
       "      <td>40</td>\n",
       "      <td>0.7730</td>\n",
       "      <td>0.843753</td>\n",
       "    </tr>\n",
       "  </tbody>\n",
       "</table>\n",
       "</div>"
      ],
      "text/plain": [
       "   param_mlp__hidden_layer_sizes param_ica__n_components  mean_test_score  \\\n",
       "0                           (2,)                       2           0.1635   \n",
       "1                           (6,)                       2           0.5110   \n",
       "2                          (10,)                       2           0.5155   \n",
       "3                          (15,)                       2           0.5205   \n",
       "4                           (2,)                       3           0.1690   \n",
       "5                           (6,)                       3           0.5420   \n",
       "6                          (10,)                       3           0.5520   \n",
       "7                          (15,)                       3           0.5435   \n",
       "8                           (2,)                       4           0.3730   \n",
       "9                           (6,)                       4           0.5665   \n",
       "10                         (10,)                       4           0.5810   \n",
       "11                         (15,)                       4           0.6120   \n",
       "12                          (2,)                       5           0.4170   \n",
       "13                          (6,)                       5           0.5975   \n",
       "14                         (10,)                       5           0.6505   \n",
       "15                         (15,)                       5           0.6695   \n",
       "16                          (2,)                      13           0.1650   \n",
       "17                          (6,)                      13           0.6910   \n",
       "18                         (10,)                      13           0.7090   \n",
       "19                         (15,)                      13           0.7450   \n",
       "20                          (2,)                      23           0.4205   \n",
       "21                          (6,)                      23           0.6700   \n",
       "22                         (10,)                      23           0.7305   \n",
       "23                         (15,)                      23           0.7215   \n",
       "24                          (2,)                      27           0.4045   \n",
       "25                          (6,)                      27           0.6805   \n",
       "26                         (10,)                      27           0.7265   \n",
       "27                         (15,)                      27           0.7340   \n",
       "28                          (2,)                      30           0.4155   \n",
       "29                          (6,)                      30           0.7000   \n",
       "30                         (10,)                      30           0.7350   \n",
       "31                         (15,)                      30           0.7420   \n",
       "32                          (2,)                      32           0.3900   \n",
       "33                          (6,)                      32           0.7380   \n",
       "34                         (10,)                      32           0.7565   \n",
       "35                         (15,)                      32           0.7700   \n",
       "36                          (2,)                      35           0.4080   \n",
       "37                          (6,)                      35           0.6865   \n",
       "38                         (10,)                      35           0.7825   \n",
       "39                         (15,)                      35           0.7775   \n",
       "40                          (2,)                      40           0.6525   \n",
       "41                          (6,)                      40           0.7520   \n",
       "42                         (10,)                      40           0.7680   \n",
       "43                         (15,)                      40           0.7730   \n",
       "\n",
       "    mean_train_score  \n",
       "0           0.163500  \n",
       "1           0.515505  \n",
       "2           0.519506  \n",
       "3           0.519504  \n",
       "4           0.169000  \n",
       "5           0.549509  \n",
       "6           0.545748  \n",
       "7           0.551510  \n",
       "8           0.369498  \n",
       "9           0.584757  \n",
       "10          0.586000  \n",
       "11          0.613518  \n",
       "12          0.411512  \n",
       "13          0.600244  \n",
       "14          0.658242  \n",
       "15          0.685250  \n",
       "16          0.165000  \n",
       "17          0.720235  \n",
       "18          0.733491  \n",
       "19          0.776255  \n",
       "20          0.420504  \n",
       "21          0.686489  \n",
       "22          0.777496  \n",
       "23          0.753991  \n",
       "24          0.405777  \n",
       "25          0.714239  \n",
       "26          0.787740  \n",
       "27          0.787740  \n",
       "28          0.413994  \n",
       "29          0.728993  \n",
       "30          0.788244  \n",
       "31          0.800732  \n",
       "32          0.401984  \n",
       "33          0.776491  \n",
       "34          0.812990  \n",
       "35          0.834245  \n",
       "36          0.411251  \n",
       "37          0.720230  \n",
       "38          0.844237  \n",
       "39          0.831989  \n",
       "40          0.674506  \n",
       "41          0.801743  \n",
       "42          0.817497  \n",
       "43          0.843753  "
      ]
     },
     "execution_count": 99,
     "metadata": {},
     "output_type": "execute_result"
    }
   ],
   "source": [
    "results.loc[:, [\"param_mlp__hidden_layer_sizes\", f\"param_{dim_red_name}__n_components\", \"mean_test_score\", \"mean_train_score\"]]"
   ]
  },
  {
   "cell_type": "code",
   "execution_count": 100,
   "metadata": {},
   "outputs": [
    {
     "data": {
      "text/plain": [
       "(<Figure size 432x288 with 1 Axes>,\n",
       " <matplotlib.axes._subplots.AxesSubplot at 0x2375a35b358>)"
      ]
     },
     "execution_count": 100,
     "metadata": {},
     "output_type": "execute_result"
    },
    {
     "data": {
      "image/png": "[encoded data removed]",
      "text/plain": [
       "<Figure size 432x288 with 1 Axes>"
      ]
     },
     "metadata": {
      "needs_background": "light"
     },
     "output_type": "display_data"
    }
   ],
   "source": [
    "x_variable = f\"param_{dim_red_name}__n_components\"\n",
    "y_variable = \"param_mlp__hidden_layer_sizes\"\n",
    "z_variable = \"mean_test_score\"\n",
    "\n",
    "df_to_heatmap(results, x_variable, y_variable, z_variable, fontsize=11, title=f'{dim_red_name.upper()}', xlabel='Number of Components', ylabel='Hidden Layer Sizes', savefig=f'{casename}_gs.png')"
   ]
  },
  {
   "cell_type": "code",
   "execution_count": 101,
   "metadata": {},
   "outputs": [
    {
     "data": {
      "image/png": "[encoded data removed]",
      "text/plain": [
       "<Figure size 432x288 with 1 Axes>"
      ]
     },
     "metadata": {
      "needs_background": "light"
     },
     "output_type": "display_data"
    }
   ],
   "source": [
    "x_variable = f\"param_{dim_red_name}__n_components\"\n",
    "z_variable = \"mean_test_score\"\n",
    "best_scores = get_max_along_df_axis(results, z_variable, x_variable)\n",
    "fig, ax = plt.subplots()\n",
    "ax.plot(best_scores[:, 0], best_scores[:, 1], '.:', label=f'MLP fit on {dim_red_name.upper()}')\n",
    "ax.set_xlabel(\"Number of Components\")\n",
    "ax.set_ylabel(\"Score (Accuracy)\")\n",
    "plt.show()"
   ]
  },
  {
   "cell_type": "markdown",
   "metadata": {},
   "source": [
    "# Pipeline for kurtosis"
   ]
  },
  {
   "cell_type": "code",
   "execution_count": 35,
   "metadata": {},
   "outputs": [],
   "source": [
    "kurt_pipe = Pipeline([('scaler', StandardScaler()),\n",
    "                  (f'{dim_red_name}', FastICA(n_components=40, random_state=random_state, max_iter=max_iter))])"
   ]
  },
  {
   "cell_type": "code",
   "execution_count": 36,
   "metadata": {},
   "outputs": [
    {
     "name": "stderr",
     "output_type": "stream",
     "text": [
      "C:\\Users\\Scribs\\Anaconda3\\lib\\site-packages\\sklearn\\decomposition\\fastica_.py:121: ConvergenceWarning: FastICA did not converge. Consider increasing tolerance or the maximum number of iterations.\n",
      "  ConvergenceWarning)\n"
     ]
    },
    {
     "data": {
      "text/plain": [
       "Pipeline(memory=None,\n",
       "     steps=[('scaler', StandardScaler(copy=True, with_mean=True, with_std=True)), ('ica', FastICA(algorithm='parallel', fun='logcosh', fun_args=None, max_iter=3000,\n",
       "    n_components=40, random_state=1, tol=0.0001, w_init=None, whiten=True))])"
      ]
     },
     "execution_count": 36,
     "metadata": {},
     "output_type": "execute_result"
    }
   ],
   "source": [
    "kurt_pipe.fit(X, y)"
   ]
  },
  {
   "cell_type": "code",
   "execution_count": 37,
   "metadata": {},
   "outputs": [],
   "source": [
    "X_transformed = kurt_pipe.transform(X)"
   ]
  },
  {
   "cell_type": "code",
   "execution_count": 38,
   "metadata": {},
   "outputs": [],
   "source": [
    "df_ICA_components = pd.DataFrame(X_transformed)"
   ]
  },
  {
   "cell_type": "code",
   "execution_count": 42,
   "metadata": {},
   "outputs": [],
   "source": [
    "k_sorted = df_ICA_components.kurt(axis=0).abs().sort_values(ascending=False)"
   ]
  },
  {
   "cell_type": "code",
   "execution_count": 60,
   "metadata": {},
   "outputs": [
    {
     "data": {
      "text/plain": [
       "Int64Index([13, 36, 39, 10,  3, 34, 37, 21,  4, 23,  8, 18, 14, 17, 29, 11, 38,\n",
       "            12,  5,  1,  0,  9, 22,  7, 31, 32,  2, 25, 16, 19, 30, 27, 28,  6,\n",
       "            15, 20, 24, 35, 33, 26],\n",
       "           dtype='int64')"
      ]
     },
     "execution_count": 60,
     "metadata": {},
     "output_type": "execute_result"
    }
   ],
   "source": [
    "k_sorted.index"
   ]
  },
  {
   "cell_type": "code",
   "execution_count": 79,
   "metadata": {},
   "outputs": [
    {
     "data": {
      "image/png": "[encoded data removed]",
      "text/plain": [
       "<Figure size 504x288 with 1 Axes>"
      ]
     },
     "metadata": {
      "needs_background": "light"
     },
     "output_type": "display_data"
    }
   ],
   "source": [
    "fig, ax = plt.subplots(figsize=(7, 4))\n",
    "\n",
    "ax.plot(range(len(k_sorted)), k_sorted, )\n",
    "ax.set_xticklabels(k_sorted.index, rotation='vertical', fontsize=9)\n",
    "ax.set_xticks(range(len(k_sorted)))\n",
    "# plt.xticks(k_sorted.index)\n",
    "# ax.xticks(k_sorted.index)\n",
    "# ax.xaxis.set_major_locator(MaxNLocator(len(k_sorted.index), integer=True))\n",
    "ax.set_xlabel(\"Component Index\")\n",
    "ax.set_ylabel(\"Kurtosis\")\n",
    "fig.savefig(f'{casename}_kurtosis.png')"
   ]
  },
  {
   "cell_type": "code",
   "execution_count": null,
   "metadata": {},
   "outputs": [],
   "source": []
  }
 ],
 "metadata": {
  "kernelspec": {
   "display_name": "Python 3",
   "language": "python",
   "name": "python3"
  },
  "language_info": {
   "codemirror_mode": {
    "name": "ipython",
    "version": 3
   },
   "file_extension": ".py",
   "mimetype": "text/x-python",
   "name": "python",
   "nbconvert_exporter": "python",
   "pygments_lexer": "ipython3",
   "version": "3.7.2"
  }
 },
 "nbformat": 4,
 "nbformat_minor": 2
}
