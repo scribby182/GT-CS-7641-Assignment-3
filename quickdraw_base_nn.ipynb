{
 "cells": [
  {
   "cell_type": "code",
   "execution_count": 2,
   "metadata": {},
   "outputs": [],
   "source": [
    "%load_ext autoreload\n",
    "%autoreload 2"
   ]
  },
  {
   "cell_type": "code",
   "execution_count": 3,
   "metadata": {},
   "outputs": [],
   "source": [
    "import os\n",
    "import copy\n",
    "import pickle\n",
    "\n",
    "import pandas as pd\n",
    "import numpy as np\n",
    "import matplotlib.pyplot as plt\n",
    "from matplotlib.ticker import MaxNLocator\n",
    "\n",
    "from sklearn.model_selection import train_test_split, GridSearchCV, KFold, StratifiedKFold, cross_validate\n",
    "from sklearn.neural_network import MLPClassifier\n",
    "from sklearn.preprocessing import StandardScaler\n",
    "from sklearn.cluster import KMeans\n",
    "from sklearn.mixture import GaussianMixture\n",
    "from sklearn.pipeline import Pipeline\n",
    "from sklearn.decomposition import FastICA, PCA\n",
    "from sklearn.externals import joblib\n",
    "from sklearn.metrics import silhouette_score, accuracy_score\n",
    "from sklearn.manifold import TSNE\n",
    "\n",
    "from time import sleep\n",
    "\n",
    "import umap\n",
    "\n",
    "from time import perf_counter\n",
    "\n",
    "from utilities import drawSketch, computeLearningCurve, plotScoreCurve, plotTimeCurve, plotIterationCurve, plotConfusionMatrix, getDrawData, drawIncorrectSketches, heatmap, get_pca_components_for_var, plot_pca_components, df_to_heatmap, get_reconstruction_error, get_max_along_df_axis\n"
   ]
  },
  {
   "cell_type": "markdown",
   "metadata": {},
   "source": [
    "# Define settings"
   ]
  },
  {
   "cell_type": "code",
   "execution_count": 4,
   "metadata": {},
   "outputs": [],
   "source": [
    "# Import shared settings\n",
    "from settings import random_state, n_jobs, test_size, pRows, pCols, pColNames, pScale, nSamples, names, accuracyMin, accuracyMax, max_iter\n",
    "# Override settings\n",
    "#..."
   ]
  },
  {
   "cell_type": "code",
   "execution_count": 5,
   "metadata": {},
   "outputs": [],
   "source": [
    "# Used for plot names\n",
    "dim_red_name = \"nn_all_features\"\n",
    "casename = f\"quickdraw_{dim_red_name}\"\n",
    "# scoreText = \"Score (Classification Accuracy)\""
   ]
  },
  {
   "cell_type": "markdown",
   "metadata": {},
   "source": [
    "# Load and curate data"
   ]
  },
  {
   "cell_type": "code",
   "execution_count": 6,
   "metadata": {
    "scrolled": true
   },
   "outputs": [
    {
     "name": "stdout",
     "output_type": "stream",
     "text": [
      "Loading 2500 samples for baseball from ./data/full_numpy_bitmap_baseball.npy\n",
      "Loading 2500 samples for basketball from ./data/full_numpy_bitmap_basketball.npy\n",
      "\n",
      "Loaded the following named categories, with classNumbers shown\n",
      "{'baseball': 0, 'basketball': 1}\n"
     ]
    }
   ],
   "source": [
    "dataDict = getDrawData(names, nSamples=nSamples)\n",
    "data = dataDict['df']\n",
    "nameDict = dataDict['nameDict']\n",
    "\n",
    "print(\"\")\n",
    "print(\"Loaded the following named categories, with classNumbers shown\")\n",
    "print(nameDict)\n",
    "\n",
    "# Scale pixel data\n",
    "for col in pColNames:\n",
    "    data[col] = data[col] / pScale"
   ]
  },
  {
   "cell_type": "code",
   "execution_count": 7,
   "metadata": {},
   "outputs": [
    {
     "name": "stdout",
     "output_type": "stream",
     "text": [
      "X_full.shape = (5000, 784)\n",
      "y_full.shape = (5000,)\n",
      "\n",
      "X.shape = (4000, 784)\n",
      "y.shape = (4000,)\n",
      "Ratio of y=1 to y=0 for Training data: 0.5 (should be 0.5)\n",
      "\n",
      "X_test.shape = (1000, 784)\n",
      "y_test.shape = (1000,)\n",
      "Ratio of y_test=1 to y_test=0 for Test data: 0.5 (should be 0.5)\n"
     ]
    }
   ],
   "source": [
    "# Create X, y, X_test, y_test using just the features we care about...\n",
    "\n",
    "X_full = data.loc[:, pColNames].values\n",
    "print(f'X_full.shape = {X_full.shape}')\n",
    "y_full = data.loc[:, 'classNumber'].values\n",
    "print(f'y_full.shape = {y_full.shape}')\n",
    "\n",
    "X, X_test, y, y_test = train_test_split(X_full, y_full, test_size=test_size, \n",
    "                                      random_state=random_state, stratify=y_full)\n",
    "\n",
    "print('')\n",
    "print(f'X.shape = {X.shape}')\n",
    "print(f'y.shape = {y.shape}')\n",
    "print(f'Ratio of y=1 to y=0 for Training data: {(y == 1).sum() / float(len(y))} (should be 0.5)')\n",
    "\n",
    "\n",
    "print('')\n",
    "print(f'X_test.shape = {X_test.shape}')\n",
    "print(f'y_test.shape = {y_test.shape}')\n",
    "print(f'Ratio of y_test=1 to y_test=0 for Test data: {(y_test == 1).sum() / float(len(y_test))} (should be 0.5)')"
   ]
  },
  {
   "cell_type": "markdown",
   "metadata": {},
   "source": [
    "# Fit using MLP through GS"
   ]
  },
  {
   "cell_type": "code",
   "execution_count": 7,
   "metadata": {},
   "outputs": [],
   "source": [
    "pipe = Pipeline([('scaler', StandardScaler()),\n",
    "                  ('mlp', MLPClassifier(max_iter=max_iter, random_state=random_state))])\n",
    "\n",
    "hidden_layer_sizes = [(2, ), (4, ), (6, ), (10, )]\n",
    "param_grid = {\n",
    "             'mlp__hidden_layer_sizes': hidden_layer_sizes,\n",
    "             }\n",
    "gs = GridSearchCV(pipe, param_grid=param_grid, verbose=10, cv=5, return_train_score=True, \n",
    "                  n_jobs=n_jobs)"
   ]
  },
  {
   "cell_type": "code",
   "execution_count": 8,
   "metadata": {},
   "outputs": [
    {
     "name": "stdout",
     "output_type": "stream",
     "text": [
      "Fitting 5 folds for each of 4 candidates, totalling 20 fits\n"
     ]
    },
    {
     "name": "stderr",
     "output_type": "stream",
     "text": [
      "[Parallel(n_jobs=-1)]: Using backend LokyBackend with 8 concurrent workers.\n",
      "[Parallel(n_jobs=-1)]: Done   2 tasks      | elapsed:  1.0min\n",
      "[Parallel(n_jobs=-1)]: Done   8 out of  20 | elapsed:  1.4min remaining:  2.2min\n",
      "[Parallel(n_jobs=-1)]: Done  11 out of  20 | elapsed:  1.8min remaining:  1.5min\n",
      "[Parallel(n_jobs=-1)]: Done  14 out of  20 | elapsed:  1.9min remaining:   49.5s\n",
      "[Parallel(n_jobs=-1)]: Done  17 out of  20 | elapsed:  2.2min remaining:   22.7s\n",
      "[Parallel(n_jobs=-1)]: Done  20 out of  20 | elapsed:  2.2min remaining:    0.0s\n",
      "[Parallel(n_jobs=-1)]: Done  20 out of  20 | elapsed:  2.2min finished\n"
     ]
    },
    {
     "data": {
      "text/plain": [
       "['quickdraw_nn_all_features_gs.pkl']"
      ]
     },
     "execution_count": 8,
     "metadata": {},
     "output_type": "execute_result"
    }
   ],
   "source": [
    "gs.fit(X, y)\n",
    "joblib.dump(gs, casename + \"_gs.pkl\")"
   ]
  },
  {
   "cell_type": "code",
   "execution_count": 9,
   "metadata": {},
   "outputs": [],
   "source": [
    "results = pd.DataFrame(gs.cv_results_)\n",
    "results.to_csv(casename + \"_results.csv\")"
   ]
  },
  {
   "cell_type": "code",
   "execution_count": 8,
   "metadata": {},
   "outputs": [],
   "source": [
    "# results = pd.read_csv(casename + \"_results.csv\")"
   ]
  },
  {
   "cell_type": "code",
   "execution_count": 9,
   "metadata": {},
   "outputs": [
    {
     "data": {
      "text/html": [
       "<div>\n",
       "<style scoped>\n",
       "    .dataframe tbody tr th:only-of-type {\n",
       "        vertical-align: middle;\n",
       "    }\n",
       "\n",
       "    .dataframe tbody tr th {\n",
       "        vertical-align: top;\n",
       "    }\n",
       "\n",
       "    .dataframe thead th {\n",
       "        text-align: right;\n",
       "    }\n",
       "</style>\n",
       "<table border=\"1\" class=\"dataframe\">\n",
       "  <thead>\n",
       "    <tr style=\"text-align: right;\">\n",
       "      <th></th>\n",
       "      <th>Unnamed: 0</th>\n",
       "      <th>mean_fit_time</th>\n",
       "      <th>std_fit_time</th>\n",
       "      <th>mean_score_time</th>\n",
       "      <th>std_score_time</th>\n",
       "      <th>param_mlp__hidden_layer_sizes</th>\n",
       "      <th>params</th>\n",
       "      <th>split0_test_score</th>\n",
       "      <th>split1_test_score</th>\n",
       "      <th>split2_test_score</th>\n",
       "      <th>...</th>\n",
       "      <th>mean_test_score</th>\n",
       "      <th>std_test_score</th>\n",
       "      <th>rank_test_score</th>\n",
       "      <th>split0_train_score</th>\n",
       "      <th>split1_train_score</th>\n",
       "      <th>split2_train_score</th>\n",
       "      <th>split3_train_score</th>\n",
       "      <th>split4_train_score</th>\n",
       "      <th>mean_train_score</th>\n",
       "      <th>std_train_score</th>\n",
       "    </tr>\n",
       "  </thead>\n",
       "  <tbody>\n",
       "    <tr>\n",
       "      <th>0</th>\n",
       "      <td>0</td>\n",
       "      <td>59.198000</td>\n",
       "      <td>5.401217</td>\n",
       "      <td>0.035601</td>\n",
       "      <td>0.021061</td>\n",
       "      <td>(2,)</td>\n",
       "      <td>{'mlp__hidden_layer_sizes': (2,)}</td>\n",
       "      <td>0.75875</td>\n",
       "      <td>0.74375</td>\n",
       "      <td>0.75875</td>\n",
       "      <td>...</td>\n",
       "      <td>0.75200</td>\n",
       "      <td>0.005895</td>\n",
       "      <td>3</td>\n",
       "      <td>0.929688</td>\n",
       "      <td>0.939688</td>\n",
       "      <td>0.932500</td>\n",
       "      <td>0.933438</td>\n",
       "      <td>0.938438</td>\n",
       "      <td>0.934750</td>\n",
       "      <td>0.003752</td>\n",
       "    </tr>\n",
       "    <tr>\n",
       "      <th>1</th>\n",
       "      <td>1</td>\n",
       "      <td>42.829801</td>\n",
       "      <td>3.085544</td>\n",
       "      <td>0.030400</td>\n",
       "      <td>0.015639</td>\n",
       "      <td>(4,)</td>\n",
       "      <td>{'mlp__hidden_layer_sizes': (4,)}</td>\n",
       "      <td>0.73750</td>\n",
       "      <td>0.72500</td>\n",
       "      <td>0.78125</td>\n",
       "      <td>...</td>\n",
       "      <td>0.75025</td>\n",
       "      <td>0.018914</td>\n",
       "      <td>4</td>\n",
       "      <td>0.977187</td>\n",
       "      <td>0.983125</td>\n",
       "      <td>0.977812</td>\n",
       "      <td>0.984375</td>\n",
       "      <td>0.982812</td>\n",
       "      <td>0.981062</td>\n",
       "      <td>0.002962</td>\n",
       "    </tr>\n",
       "    <tr>\n",
       "      <th>2</th>\n",
       "      <td>2</td>\n",
       "      <td>35.587800</td>\n",
       "      <td>2.222834</td>\n",
       "      <td>0.034799</td>\n",
       "      <td>0.013865</td>\n",
       "      <td>(6,)</td>\n",
       "      <td>{'mlp__hidden_layer_sizes': (6,)}</td>\n",
       "      <td>0.75750</td>\n",
       "      <td>0.76375</td>\n",
       "      <td>0.78500</td>\n",
       "      <td>...</td>\n",
       "      <td>0.77000</td>\n",
       "      <td>0.009454</td>\n",
       "      <td>1</td>\n",
       "      <td>0.986563</td>\n",
       "      <td>0.985625</td>\n",
       "      <td>0.990625</td>\n",
       "      <td>0.983125</td>\n",
       "      <td>0.985938</td>\n",
       "      <td>0.986375</td>\n",
       "      <td>0.002425</td>\n",
       "    </tr>\n",
       "    <tr>\n",
       "      <th>3</th>\n",
       "      <td>3</td>\n",
       "      <td>26.711514</td>\n",
       "      <td>4.056098</td>\n",
       "      <td>0.052199</td>\n",
       "      <td>0.018871</td>\n",
       "      <td>(10,)</td>\n",
       "      <td>{'mlp__hidden_layer_sizes': (10,)}</td>\n",
       "      <td>0.76000</td>\n",
       "      <td>0.76375</td>\n",
       "      <td>0.78125</td>\n",
       "      <td>...</td>\n",
       "      <td>0.76625</td>\n",
       "      <td>0.009186</td>\n",
       "      <td>2</td>\n",
       "      <td>0.999062</td>\n",
       "      <td>0.998750</td>\n",
       "      <td>0.998750</td>\n",
       "      <td>0.999062</td>\n",
       "      <td>0.998437</td>\n",
       "      <td>0.998812</td>\n",
       "      <td>0.000234</td>\n",
       "    </tr>\n",
       "  </tbody>\n",
       "</table>\n",
       "<p>4 rows × 22 columns</p>\n",
       "</div>"
      ],
      "text/plain": [
       "   Unnamed: 0  mean_fit_time  std_fit_time  mean_score_time  std_score_time  \\\n",
       "0           0      59.198000      5.401217         0.035601        0.021061   \n",
       "1           1      42.829801      3.085544         0.030400        0.015639   \n",
       "2           2      35.587800      2.222834         0.034799        0.013865   \n",
       "3           3      26.711514      4.056098         0.052199        0.018871   \n",
       "\n",
       "  param_mlp__hidden_layer_sizes                              params  \\\n",
       "0                          (2,)   {'mlp__hidden_layer_sizes': (2,)}   \n",
       "1                          (4,)   {'mlp__hidden_layer_sizes': (4,)}   \n",
       "2                          (6,)   {'mlp__hidden_layer_sizes': (6,)}   \n",
       "3                         (10,)  {'mlp__hidden_layer_sizes': (10,)}   \n",
       "\n",
       "   split0_test_score  split1_test_score  split2_test_score  ...  \\\n",
       "0            0.75875            0.74375            0.75875  ...   \n",
       "1            0.73750            0.72500            0.78125  ...   \n",
       "2            0.75750            0.76375            0.78500  ...   \n",
       "3            0.76000            0.76375            0.78125  ...   \n",
       "\n",
       "   mean_test_score  std_test_score  rank_test_score  split0_train_score  \\\n",
       "0          0.75200        0.005895                3            0.929688   \n",
       "1          0.75025        0.018914                4            0.977187   \n",
       "2          0.77000        0.009454                1            0.986563   \n",
       "3          0.76625        0.009186                2            0.999062   \n",
       "\n",
       "   split1_train_score  split2_train_score  split3_train_score  \\\n",
       "0            0.939688            0.932500            0.933438   \n",
       "1            0.983125            0.977812            0.984375   \n",
       "2            0.985625            0.990625            0.983125   \n",
       "3            0.998750            0.998750            0.999062   \n",
       "\n",
       "   split4_train_score  mean_train_score  std_train_score  \n",
       "0            0.938438          0.934750         0.003752  \n",
       "1            0.982812          0.981062         0.002962  \n",
       "2            0.985938          0.986375         0.002425  \n",
       "3            0.998437          0.998812         0.000234  \n",
       "\n",
       "[4 rows x 22 columns]"
      ]
     },
     "execution_count": 9,
     "metadata": {},
     "output_type": "execute_result"
    }
   ],
   "source": [
    "results"
   ]
  }
 ],
 "metadata": {
  "kernelspec": {
   "display_name": "Python 3",
   "language": "python",
   "name": "python3"
  },
  "language_info": {
   "codemirror_mode": {
    "name": "ipython",
    "version": 3
   },
   "file_extension": ".py",
   "mimetype": "text/x-python",
   "name": "python",
   "nbconvert_exporter": "python",
   "pygments_lexer": "ipython3",
   "version": "3.7.2"
  }
 },
 "nbformat": 4,
 "nbformat_minor": 2
}
