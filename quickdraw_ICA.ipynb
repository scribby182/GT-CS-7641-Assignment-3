{
 "cells": [
  {
   "cell_type": "code",
   "execution_count": 6,
   "metadata": {},
   "outputs": [
    {
     "name": "stdout",
     "output_type": "stream",
     "text": [
      "The autoreload extension is already loaded. To reload it, use:\n",
      "  %reload_ext autoreload\n"
     ]
    }
   ],
   "source": [
    "%load_ext autoreload\n",
    "%autoreload 2"
   ]
  },
  {
   "cell_type": "code",
   "execution_count": 7,
   "metadata": {},
   "outputs": [],
   "source": [
    "import os\n",
    "import copy\n",
    "import pickle\n",
    "\n",
    "import pandas as pd\n",
    "import numpy as np\n",
    "import matplotlib.pyplot as plt\n",
    "from matplotlib.ticker import MaxNLocator\n",
    "\n",
    "from sklearn.model_selection import train_test_split, GridSearchCV, KFold, StratifiedKFold, cross_validate\n",
    "from sklearn.neural_network import MLPClassifier\n",
    "from sklearn.preprocessing import StandardScaler\n",
    "from sklearn.decomposition import FastICA, PCA\n",
    "from sklearn.pipeline import Pipeline\n",
    "from sklearn.externals import joblib\n",
    "\n",
    "from time import perf_counter\n",
    "\n",
    "from utilities import drawSketch, computeLearningCurve, plotScoreCurve, plotTimeCurve, plotIterationCurve, plotConfusionMatrix, getDrawData, drawIncorrectSketches, heatmap, get_pca_components_for_var, plot_pca_components, df_to_heatmap, get_reconstruction_error, get_max_along_df_axis\n"
   ]
  },
  {
   "cell_type": "markdown",
   "metadata": {},
   "source": [
    "# Define settings"
   ]
  },
  {
   "cell_type": "code",
   "execution_count": 8,
   "metadata": {},
   "outputs": [],
   "source": [
    "# Import shared settings\n",
    "from settings import random_state, n_jobs, test_size, pRows, pCols, pColNames, pScale, nSamples, names, accuracyMin, accuracyMax, max_iter\n",
    "# Override settings\n",
    "#..."
   ]
  },
  {
   "cell_type": "code",
   "execution_count": 9,
   "metadata": {},
   "outputs": [],
   "source": [
    "# Set n_components to be used during grid searching (was set here based on PCA)\n",
    "n_components = [1, 2, 9, 34, 98, 156, 206, 295, 478, 666, 784]\n",
    "# n_components = [1, 2, 9, 34, 98]"
   ]
  },
  {
   "cell_type": "code",
   "execution_count": 17,
   "metadata": {},
   "outputs": [],
   "source": [
    "# Used for plot names\n",
    "dim_red_name = \"ica\"\n",
    "casename = f\"quickdraw_{dim_red_name}\"\n"
   ]
  },
  {
   "cell_type": "markdown",
   "metadata": {},
   "source": [
    "# Load and curate data"
   ]
  },
  {
   "cell_type": "code",
   "execution_count": 11,
   "metadata": {
    "scrolled": true
   },
   "outputs": [
    {
     "name": "stdout",
     "output_type": "stream",
     "text": [
      "Loading 2500 samples for baseball from ./data/full_numpy_bitmap_baseball.npy\n",
      "Loading 2500 samples for basketball from ./data/full_numpy_bitmap_basketball.npy\n",
      "\n",
      "Loaded the following named categories, with classNumbers shown\n",
      "{'baseball': 0, 'basketball': 1}\n"
     ]
    }
   ],
   "source": [
    "dataDict = getDrawData(names, nSamples=nSamples)\n",
    "data = dataDict['df']\n",
    "nameDict = dataDict['nameDict']\n",
    "\n",
    "print(\"\")\n",
    "print(\"Loaded the following named categories, with classNumbers shown\")\n",
    "print(nameDict)\n",
    "\n",
    "# Scale pixel data\n",
    "for col in pColNames:\n",
    "    data[col] = data[col] / pScale"
   ]
  },
  {
   "cell_type": "code",
   "execution_count": 12,
   "metadata": {},
   "outputs": [
    {
     "name": "stdout",
     "output_type": "stream",
     "text": [
      "X_full.shape = (5000, 784)\n",
      "y_full.shape = (5000,)\n",
      "\n",
      "X.shape = (4000, 784)\n",
      "y.shape = (4000,)\n",
      "Ratio of y=1 to y=0 for Training data: 0.5 (should be 0.5)\n",
      "\n",
      "X_test.shape = (1000, 784)\n",
      "y_test.shape = (1000,)\n",
      "Ratio of y_test=1 to y_test=0 for Test data: 0.5 (should be 0.5)\n"
     ]
    }
   ],
   "source": [
    "# Create X, y, X_test, y_test using just the features we care about...\n",
    "\n",
    "X_full = data.loc[:, pColNames].values\n",
    "print(f'X_full.shape = {X_full.shape}')\n",
    "y_full = data.loc[:, 'classNumber'].values\n",
    "print(f'y_full.shape = {y_full.shape}')\n",
    "\n",
    "X, X_test, y, y_test = train_test_split(X_full, y_full, test_size=test_size, \n",
    "                                      random_state=random_state, stratify=y_full)\n",
    "\n",
    "print('')\n",
    "print(f'X.shape = {X.shape}')\n",
    "print(f'y.shape = {y.shape}')\n",
    "print(f'Ratio of y=1 to y=0 for Training data: {(y == 1).sum() / float(len(y))} (should be 0.5)')\n",
    "\n",
    "\n",
    "print('')\n",
    "print(f'X_test.shape = {X_test.shape}')\n",
    "print(f'y_test.shape = {y_test.shape}')\n",
    "print(f'Ratio of y_test=1 to y_test=0 for Test data: {(y_test == 1).sum() / float(len(y_test))} (should be 0.5)')"
   ]
  },
  {
   "cell_type": "markdown",
   "metadata": {},
   "source": [
    "# Apply ICA"
   ]
  },
  {
   "cell_type": "markdown",
   "metadata": {},
   "source": [
    "# Initial application for visualization"
   ]
  },
  {
   "cell_type": "code",
   "execution_count": 26,
   "metadata": {},
   "outputs": [
    {
     "name": "stderr",
     "output_type": "stream",
     "text": [
      "C:\\Users\\Scribs\\Anaconda3\\lib\\site-packages\\sklearn\\decomposition\\fastica_.py:121: ConvergenceWarning: FastICA did not converge. Consider increasing tolerance or the maximum number of iterations.\n",
      "  ConvergenceWarning)\n"
     ]
    }
   ],
   "source": [
    "pipe_choose_components = Pipeline([('scaler', StandardScaler()),\n",
    "                  (f'{dim_red_name}', FastICA(n_components=784, random_state=random_state, max_iter=max_iter))])\n",
    "pipe_choose_components.fit(X, y)\n",
    "X_transformed = pipe_choose_components.transform(X)\n"
   ]
  },
  {
   "cell_type": "code",
   "execution_count": 27,
   "metadata": {},
   "outputs": [],
   "source": [
    "df_ICA_components = pd.DataFrame(X_transformed)\n",
    "k_sorted = df_ICA_components.kurt(axis=0).abs().sort_values(ascending=False)"
   ]
  },
  {
   "cell_type": "code",
   "execution_count": 32,
   "metadata": {},
   "outputs": [
    {
     "data": {
      "text/plain": [
       "381.67272994166314"
      ]
     },
     "execution_count": 32,
     "metadata": {},
     "output_type": "execute_result"
    }
   ],
   "source": [
    "k_sorted.iloc[0]"
   ]
  },
  {
   "cell_type": "code",
   "execution_count": 38,
   "metadata": {},
   "outputs": [
    {
     "data": {
      "text/plain": [
       "644"
      ]
     },
     "execution_count": 38,
     "metadata": {},
     "output_type": "execute_result"
    }
   ],
   "source": [
    "(k_sorted < 1).sum()"
   ]
  },
  {
   "cell_type": "code",
   "execution_count": 48,
   "metadata": {},
   "outputs": [
    {
     "data": {
      "image/png": "[encoded data removed]",
      "text/plain": [
       "<Figure size 432x288 with 1 Axes>"
      ]
     },
     "metadata": {
      "needs_background": "light"
     },
     "output_type": "display_data"
    }
   ],
   "source": [
    "fig, ax = plt.subplots()\n",
    "\n",
    "ax.plot(range(len(k_sorted)), k_sorted, )\n",
    "ax.set_xticklabels(k_sorted.index, rotation='vertical')\n",
    "# ax.set_xticks(range(len(k_sorted)))\n",
    "# plt.xticks(k_sorted.index)\n",
    "# ax.xticks(k_sorted.index)\n",
    "# ax.xaxis.set_major_locator(MaxNLocator(len(k_sorted.index), integer=True))\n",
    "\n",
    "ax.set_xlabel(\"Component Index (not all shown as ticks, for clarity)\")\n",
    "ax.set_ylabel(\"Kurtosis\")\n",
    "fig.tight_layout()\n",
    "fig.savefig(f'{casename}_kurtosis.png')"
   ]
  },
  {
   "cell_type": "code",
   "execution_count": 47,
   "metadata": {},
   "outputs": [
    {
     "name": "stderr",
     "output_type": "stream",
     "text": [
      "C:\\Users\\Scribs\\Anaconda3\\lib\\site-packages\\sklearn\\decomposition\\fastica_.py:121: ConvergenceWarning: FastICA did not converge. Consider increasing tolerance or the maximum number of iterations.\n",
      "  ConvergenceWarning)\n",
      "C:\\Users\\Scribs\\Anaconda3\\lib\\site-packages\\sklearn\\decomposition\\fastica_.py:121: ConvergenceWarning: FastICA did not converge. Consider increasing tolerance or the maximum number of iterations.\n",
      "  ConvergenceWarning)\n"
     ]
    },
    {
     "data": {
      "text/plain": [
       "['quickdraw_ica_reconstruction_error.pkl']"
      ]
     },
     "execution_count": 47,
     "metadata": {},
     "output_type": "execute_result"
    }
   ],
   "source": [
    "# n_components = [2, 3, 4, 5, 7, 10, 13, 15, 20, 25, 30, 35, 40]\n",
    "reconstruction_error = np.zeros(len(n_components))\n",
    "for i, this_n in enumerate(n_components):\n",
    "    pipe_reconstruction = Pipeline([('scaler', StandardScaler()), \n",
    "                                       (f'{dim_red_name}', FastICA(random_state=random_state, n_components=this_n, max_iter=max_iter))])\n",
    "    pipe_reconstruction.fit(X)\n",
    "    reconstruction_error[i] = get_reconstruction_error(X, pipe_reconstruction)\n",
    "joblib.dump(np.array((n_components, reconstruction_error)).T, f'{casename}_reconstruction_error.pkl')"
   ]
  },
  {
   "cell_type": "code",
   "execution_count": null,
   "metadata": {},
   "outputs": [],
   "source": []
  },
  {
   "cell_type": "markdown",
   "metadata": {},
   "source": [
    "## Run MLP using results of ICA through Grid Search"
   ]
  },
  {
   "cell_type": "code",
   "execution_count": 95,
   "metadata": {},
   "outputs": [],
   "source": [
    "pipe = Pipeline([('scaler', StandardScaler()),\n",
    "                  ('ica', FastICA(random_state=random_state, max_iter=max_iter)),\n",
    "                  ('mlp', MLPClassifier(max_iter=max_iter, random_state=random_state))])\n",
    "\n",
    "#                  [0.5, 0.75, 0.9, 0.95, 0.99]\n",
    "hidden_layer_sizes = [(2, ), (4, ), (6, ), (10, )]\n",
    "param_grid = {'ica__n_components': n_components,\n",
    "             'mlp__hidden_layer_sizes': hidden_layer_sizes,\n",
    "             }\n",
    "gs = GridSearchCV(pipe, param_grid=param_grid, verbose=10, cv=5, return_train_score=True, \n",
    "                  n_jobs=n_jobs)"
   ]
  },
  {
   "cell_type": "code",
   "execution_count": 96,
   "metadata": {},
   "outputs": [
    {
     "name": "stdout",
     "output_type": "stream",
     "text": [
      "Fitting 5 folds for each of 44 candidates, totalling 220 fits\n"
     ]
    },
    {
     "name": "stderr",
     "output_type": "stream",
     "text": [
      "[Parallel(n_jobs=-1)]: Using backend LokyBackend with 8 concurrent workers.\n",
      "[Parallel(n_jobs=-1)]: Done   2 tasks      | elapsed:   15.0s\n",
      "[Parallel(n_jobs=-1)]: Done   9 tasks      | elapsed:   20.2s\n",
      "[Parallel(n_jobs=-1)]: Done  16 tasks      | elapsed:   23.9s\n",
      "[Parallel(n_jobs=-1)]: Done  25 tasks      | elapsed:   28.6s\n",
      "[Parallel(n_jobs=-1)]: Done  34 tasks      | elapsed:   36.0s\n",
      "[Parallel(n_jobs=-1)]: Done  45 tasks      | elapsed:   44.4s\n",
      "[Parallel(n_jobs=-1)]: Done  56 tasks      | elapsed:  1.0min\n",
      "[Parallel(n_jobs=-1)]: Done  69 tasks      | elapsed:  1.3min\n",
      "[Parallel(n_jobs=-1)]: Done  82 tasks      | elapsed:  1.6min\n",
      "[Parallel(n_jobs=-1)]: Done  97 tasks      | elapsed:  2.4min\n",
      "[Parallel(n_jobs=-1)]: Done 112 tasks      | elapsed:  3.2min\n",
      "[Parallel(n_jobs=-1)]: Done 129 tasks      | elapsed:  6.2min\n",
      "[Parallel(n_jobs=-1)]: Done 146 tasks      | elapsed:  9.4min\n",
      "[Parallel(n_jobs=-1)]: Done 165 tasks      | elapsed: 20.4min\n",
      "[Parallel(n_jobs=-1)]: Done 184 tasks      | elapsed: 32.9min\n",
      "[Parallel(n_jobs=-1)]: Done 205 tasks      | elapsed: 54.6min\n",
      "[Parallel(n_jobs=-1)]: Done 220 out of 220 | elapsed: 70.8min finished\n",
      "C:\\Users\\Scribs\\Anaconda3\\lib\\site-packages\\sklearn\\decomposition\\fastica_.py:121: ConvergenceWarning: FastICA did not converge. Consider increasing tolerance or the maximum number of iterations.\n",
      "  ConvergenceWarning)\n"
     ]
    },
    {
     "data": {
      "text/plain": [
       "['quickdraw_ica_gs.pkl']"
      ]
     },
     "execution_count": 96,
     "metadata": {},
     "output_type": "execute_result"
    }
   ],
   "source": [
    "gs.fit(X, y)\n",
    "joblib.dump(gs, casename + \"_gs.pkl\")"
   ]
  },
  {
   "cell_type": "code",
   "execution_count": 106,
   "metadata": {},
   "outputs": [
    {
     "data": {
      "text/plain": [
       "{'ica__n_components': 34, 'mlp__hidden_layer_sizes': (10,)}"
      ]
     },
     "execution_count": 106,
     "metadata": {},
     "output_type": "execute_result"
    }
   ],
   "source": [
    "gs.best_params_"
   ]
  },
  {
   "cell_type": "code",
   "execution_count": 101,
   "metadata": {},
   "outputs": [],
   "source": [
    "results = pd.DataFrame(gs.cv_results_)\n",
    "results.to_csv(casename + \"_results.csv\")"
   ]
  },
  {
   "cell_type": "code",
   "execution_count": 20,
   "metadata": {},
   "outputs": [],
   "source": [
    "# results = pd.read_csv(f'{casename}_results.csv')"
   ]
  },
  {
   "cell_type": "code",
   "execution_count": 21,
   "metadata": {},
   "outputs": [
    {
     "data": {
      "text/html": [
       "<div>\n",
       "<style scoped>\n",
       "    .dataframe tbody tr th:only-of-type {\n",
       "        vertical-align: middle;\n",
       "    }\n",
       "\n",
       "    .dataframe tbody tr th {\n",
       "        vertical-align: top;\n",
       "    }\n",
       "\n",
       "    .dataframe thead th {\n",
       "        text-align: right;\n",
       "    }\n",
       "</style>\n",
       "<table border=\"1\" class=\"dataframe\">\n",
       "  <thead>\n",
       "    <tr style=\"text-align: right;\">\n",
       "      <th></th>\n",
       "      <th>param_mlp__hidden_layer_sizes</th>\n",
       "      <th>param_ica__n_components</th>\n",
       "      <th>mean_test_score</th>\n",
       "      <th>mean_train_score</th>\n",
       "    </tr>\n",
       "  </thead>\n",
       "  <tbody>\n",
       "    <tr>\n",
       "      <th>0</th>\n",
       "      <td>(2,)</td>\n",
       "      <td>1</td>\n",
       "      <td>0.50000</td>\n",
       "      <td>0.500000</td>\n",
       "    </tr>\n",
       "    <tr>\n",
       "      <th>1</th>\n",
       "      <td>(4,)</td>\n",
       "      <td>1</td>\n",
       "      <td>0.50000</td>\n",
       "      <td>0.500000</td>\n",
       "    </tr>\n",
       "    <tr>\n",
       "      <th>2</th>\n",
       "      <td>(6,)</td>\n",
       "      <td>1</td>\n",
       "      <td>0.57725</td>\n",
       "      <td>0.575438</td>\n",
       "    </tr>\n",
       "    <tr>\n",
       "      <th>3</th>\n",
       "      <td>(10,)</td>\n",
       "      <td>1</td>\n",
       "      <td>0.57900</td>\n",
       "      <td>0.578688</td>\n",
       "    </tr>\n",
       "    <tr>\n",
       "      <th>4</th>\n",
       "      <td>(2,)</td>\n",
       "      <td>2</td>\n",
       "      <td>0.50000</td>\n",
       "      <td>0.500000</td>\n",
       "    </tr>\n",
       "    <tr>\n",
       "      <th>5</th>\n",
       "      <td>(4,)</td>\n",
       "      <td>2</td>\n",
       "      <td>0.55100</td>\n",
       "      <td>0.555688</td>\n",
       "    </tr>\n",
       "    <tr>\n",
       "      <th>6</th>\n",
       "      <td>(6,)</td>\n",
       "      <td>2</td>\n",
       "      <td>0.58300</td>\n",
       "      <td>0.578563</td>\n",
       "    </tr>\n",
       "    <tr>\n",
       "      <th>7</th>\n",
       "      <td>(10,)</td>\n",
       "      <td>2</td>\n",
       "      <td>0.57950</td>\n",
       "      <td>0.583375</td>\n",
       "    </tr>\n",
       "    <tr>\n",
       "      <th>8</th>\n",
       "      <td>(2,)</td>\n",
       "      <td>9</td>\n",
       "      <td>0.50000</td>\n",
       "      <td>0.500000</td>\n",
       "    </tr>\n",
       "    <tr>\n",
       "      <th>9</th>\n",
       "      <td>(4,)</td>\n",
       "      <td>9</td>\n",
       "      <td>0.80550</td>\n",
       "      <td>0.803750</td>\n",
       "    </tr>\n",
       "    <tr>\n",
       "      <th>10</th>\n",
       "      <td>(6,)</td>\n",
       "      <td>9</td>\n",
       "      <td>0.80525</td>\n",
       "      <td>0.804750</td>\n",
       "    </tr>\n",
       "    <tr>\n",
       "      <th>11</th>\n",
       "      <td>(10,)</td>\n",
       "      <td>9</td>\n",
       "      <td>0.80450</td>\n",
       "      <td>0.803562</td>\n",
       "    </tr>\n",
       "    <tr>\n",
       "      <th>12</th>\n",
       "      <td>(2,)</td>\n",
       "      <td>34</td>\n",
       "      <td>0.82875</td>\n",
       "      <td>0.836500</td>\n",
       "    </tr>\n",
       "    <tr>\n",
       "      <th>13</th>\n",
       "      <td>(4,)</td>\n",
       "      <td>34</td>\n",
       "      <td>0.83050</td>\n",
       "      <td>0.836625</td>\n",
       "    </tr>\n",
       "    <tr>\n",
       "      <th>14</th>\n",
       "      <td>(6,)</td>\n",
       "      <td>34</td>\n",
       "      <td>0.83000</td>\n",
       "      <td>0.836062</td>\n",
       "    </tr>\n",
       "    <tr>\n",
       "      <th>15</th>\n",
       "      <td>(10,)</td>\n",
       "      <td>34</td>\n",
       "      <td>0.83225</td>\n",
       "      <td>0.837750</td>\n",
       "    </tr>\n",
       "    <tr>\n",
       "      <th>16</th>\n",
       "      <td>(2,)</td>\n",
       "      <td>98</td>\n",
       "      <td>0.56350</td>\n",
       "      <td>0.569125</td>\n",
       "    </tr>\n",
       "    <tr>\n",
       "      <th>17</th>\n",
       "      <td>(4,)</td>\n",
       "      <td>98</td>\n",
       "      <td>0.82475</td>\n",
       "      <td>0.843812</td>\n",
       "    </tr>\n",
       "    <tr>\n",
       "      <th>18</th>\n",
       "      <td>(6,)</td>\n",
       "      <td>98</td>\n",
       "      <td>0.82525</td>\n",
       "      <td>0.845563</td>\n",
       "    </tr>\n",
       "    <tr>\n",
       "      <th>19</th>\n",
       "      <td>(10,)</td>\n",
       "      <td>98</td>\n",
       "      <td>0.82075</td>\n",
       "      <td>0.869688</td>\n",
       "    </tr>\n",
       "    <tr>\n",
       "      <th>20</th>\n",
       "      <td>(2,)</td>\n",
       "      <td>156</td>\n",
       "      <td>0.76200</td>\n",
       "      <td>0.778375</td>\n",
       "    </tr>\n",
       "    <tr>\n",
       "      <th>21</th>\n",
       "      <td>(4,)</td>\n",
       "      <td>156</td>\n",
       "      <td>0.81950</td>\n",
       "      <td>0.849875</td>\n",
       "    </tr>\n",
       "    <tr>\n",
       "      <th>22</th>\n",
       "      <td>(6,)</td>\n",
       "      <td>156</td>\n",
       "      <td>0.81950</td>\n",
       "      <td>0.854812</td>\n",
       "    </tr>\n",
       "    <tr>\n",
       "      <th>23</th>\n",
       "      <td>(10,)</td>\n",
       "      <td>156</td>\n",
       "      <td>0.77175</td>\n",
       "      <td>0.974688</td>\n",
       "    </tr>\n",
       "    <tr>\n",
       "      <th>24</th>\n",
       "      <td>(2,)</td>\n",
       "      <td>206</td>\n",
       "      <td>0.82600</td>\n",
       "      <td>0.856687</td>\n",
       "    </tr>\n",
       "    <tr>\n",
       "      <th>25</th>\n",
       "      <td>(4,)</td>\n",
       "      <td>206</td>\n",
       "      <td>0.82250</td>\n",
       "      <td>0.853625</td>\n",
       "    </tr>\n",
       "    <tr>\n",
       "      <th>26</th>\n",
       "      <td>(6,)</td>\n",
       "      <td>206</td>\n",
       "      <td>0.80175</td>\n",
       "      <td>0.905438</td>\n",
       "    </tr>\n",
       "    <tr>\n",
       "      <th>27</th>\n",
       "      <td>(10,)</td>\n",
       "      <td>206</td>\n",
       "      <td>0.81100</td>\n",
       "      <td>0.879000</td>\n",
       "    </tr>\n",
       "    <tr>\n",
       "      <th>28</th>\n",
       "      <td>(2,)</td>\n",
       "      <td>295</td>\n",
       "      <td>0.81575</td>\n",
       "      <td>0.866938</td>\n",
       "    </tr>\n",
       "    <tr>\n",
       "      <th>29</th>\n",
       "      <td>(4,)</td>\n",
       "      <td>295</td>\n",
       "      <td>0.79900</td>\n",
       "      <td>0.916375</td>\n",
       "    </tr>\n",
       "    <tr>\n",
       "      <th>30</th>\n",
       "      <td>(6,)</td>\n",
       "      <td>295</td>\n",
       "      <td>0.77075</td>\n",
       "      <td>0.967437</td>\n",
       "    </tr>\n",
       "    <tr>\n",
       "      <th>31</th>\n",
       "      <td>(10,)</td>\n",
       "      <td>295</td>\n",
       "      <td>0.76175</td>\n",
       "      <td>0.971125</td>\n",
       "    </tr>\n",
       "    <tr>\n",
       "      <th>32</th>\n",
       "      <td>(2,)</td>\n",
       "      <td>478</td>\n",
       "      <td>0.79575</td>\n",
       "      <td>0.874625</td>\n",
       "    </tr>\n",
       "    <tr>\n",
       "      <th>33</th>\n",
       "      <td>(4,)</td>\n",
       "      <td>478</td>\n",
       "      <td>0.75125</td>\n",
       "      <td>0.960875</td>\n",
       "    </tr>\n",
       "    <tr>\n",
       "      <th>34</th>\n",
       "      <td>(6,)</td>\n",
       "      <td>478</td>\n",
       "      <td>0.73600</td>\n",
       "      <td>0.999500</td>\n",
       "    </tr>\n",
       "    <tr>\n",
       "      <th>35</th>\n",
       "      <td>(10,)</td>\n",
       "      <td>478</td>\n",
       "      <td>0.74775</td>\n",
       "      <td>0.999812</td>\n",
       "    </tr>\n",
       "    <tr>\n",
       "      <th>36</th>\n",
       "      <td>(2,)</td>\n",
       "      <td>666</td>\n",
       "      <td>0.75600</td>\n",
       "      <td>0.904750</td>\n",
       "    </tr>\n",
       "    <tr>\n",
       "      <th>37</th>\n",
       "      <td>(4,)</td>\n",
       "      <td>666</td>\n",
       "      <td>0.71500</td>\n",
       "      <td>0.997062</td>\n",
       "    </tr>\n",
       "    <tr>\n",
       "      <th>38</th>\n",
       "      <td>(6,)</td>\n",
       "      <td>666</td>\n",
       "      <td>0.73875</td>\n",
       "      <td>0.998500</td>\n",
       "    </tr>\n",
       "    <tr>\n",
       "      <th>39</th>\n",
       "      <td>(10,)</td>\n",
       "      <td>666</td>\n",
       "      <td>0.74325</td>\n",
       "      <td>0.999875</td>\n",
       "    </tr>\n",
       "    <tr>\n",
       "      <th>40</th>\n",
       "      <td>(2,)</td>\n",
       "      <td>784</td>\n",
       "      <td>0.74475</td>\n",
       "      <td>0.931312</td>\n",
       "    </tr>\n",
       "    <tr>\n",
       "      <th>41</th>\n",
       "      <td>(4,)</td>\n",
       "      <td>784</td>\n",
       "      <td>0.72900</td>\n",
       "      <td>0.994125</td>\n",
       "    </tr>\n",
       "    <tr>\n",
       "      <th>42</th>\n",
       "      <td>(6,)</td>\n",
       "      <td>784</td>\n",
       "      <td>0.73450</td>\n",
       "      <td>0.997000</td>\n",
       "    </tr>\n",
       "    <tr>\n",
       "      <th>43</th>\n",
       "      <td>(10,)</td>\n",
       "      <td>784</td>\n",
       "      <td>0.74650</td>\n",
       "      <td>0.999313</td>\n",
       "    </tr>\n",
       "  </tbody>\n",
       "</table>\n",
       "</div>"
      ],
      "text/plain": [
       "   param_mlp__hidden_layer_sizes  param_ica__n_components  mean_test_score  \\\n",
       "0                           (2,)                        1          0.50000   \n",
       "1                           (4,)                        1          0.50000   \n",
       "2                           (6,)                        1          0.57725   \n",
       "3                          (10,)                        1          0.57900   \n",
       "4                           (2,)                        2          0.50000   \n",
       "5                           (4,)                        2          0.55100   \n",
       "6                           (6,)                        2          0.58300   \n",
       "7                          (10,)                        2          0.57950   \n",
       "8                           (2,)                        9          0.50000   \n",
       "9                           (4,)                        9          0.80550   \n",
       "10                          (6,)                        9          0.80525   \n",
       "11                         (10,)                        9          0.80450   \n",
       "12                          (2,)                       34          0.82875   \n",
       "13                          (4,)                       34          0.83050   \n",
       "14                          (6,)                       34          0.83000   \n",
       "15                         (10,)                       34          0.83225   \n",
       "16                          (2,)                       98          0.56350   \n",
       "17                          (4,)                       98          0.82475   \n",
       "18                          (6,)                       98          0.82525   \n",
       "19                         (10,)                       98          0.82075   \n",
       "20                          (2,)                      156          0.76200   \n",
       "21                          (4,)                      156          0.81950   \n",
       "22                          (6,)                      156          0.81950   \n",
       "23                         (10,)                      156          0.77175   \n",
       "24                          (2,)                      206          0.82600   \n",
       "25                          (4,)                      206          0.82250   \n",
       "26                          (6,)                      206          0.80175   \n",
       "27                         (10,)                      206          0.81100   \n",
       "28                          (2,)                      295          0.81575   \n",
       "29                          (4,)                      295          0.79900   \n",
       "30                          (6,)                      295          0.77075   \n",
       "31                         (10,)                      295          0.76175   \n",
       "32                          (2,)                      478          0.79575   \n",
       "33                          (4,)                      478          0.75125   \n",
       "34                          (6,)                      478          0.73600   \n",
       "35                         (10,)                      478          0.74775   \n",
       "36                          (2,)                      666          0.75600   \n",
       "37                          (4,)                      666          0.71500   \n",
       "38                          (6,)                      666          0.73875   \n",
       "39                         (10,)                      666          0.74325   \n",
       "40                          (2,)                      784          0.74475   \n",
       "41                          (4,)                      784          0.72900   \n",
       "42                          (6,)                      784          0.73450   \n",
       "43                         (10,)                      784          0.74650   \n",
       "\n",
       "    mean_train_score  \n",
       "0           0.500000  \n",
       "1           0.500000  \n",
       "2           0.575438  \n",
       "3           0.578688  \n",
       "4           0.500000  \n",
       "5           0.555688  \n",
       "6           0.578563  \n",
       "7           0.583375  \n",
       "8           0.500000  \n",
       "9           0.803750  \n",
       "10          0.804750  \n",
       "11          0.803562  \n",
       "12          0.836500  \n",
       "13          0.836625  \n",
       "14          0.836062  \n",
       "15          0.837750  \n",
       "16          0.569125  \n",
       "17          0.843812  \n",
       "18          0.845563  \n",
       "19          0.869688  \n",
       "20          0.778375  \n",
       "21          0.849875  \n",
       "22          0.854812  \n",
       "23          0.974688  \n",
       "24          0.856687  \n",
       "25          0.853625  \n",
       "26          0.905438  \n",
       "27          0.879000  \n",
       "28          0.866938  \n",
       "29          0.916375  \n",
       "30          0.967437  \n",
       "31          0.971125  \n",
       "32          0.874625  \n",
       "33          0.960875  \n",
       "34          0.999500  \n",
       "35          0.999812  \n",
       "36          0.904750  \n",
       "37          0.997062  \n",
       "38          0.998500  \n",
       "39          0.999875  \n",
       "40          0.931312  \n",
       "41          0.994125  \n",
       "42          0.997000  \n",
       "43          0.999313  "
      ]
     },
     "execution_count": 21,
     "metadata": {},
     "output_type": "execute_result"
    }
   ],
   "source": [
    "results.loc[:, [\"param_mlp__hidden_layer_sizes\", \"param_ica__n_components\", \"mean_test_score\", \"mean_train_score\"]]"
   ]
  },
  {
   "cell_type": "code",
   "execution_count": 24,
   "metadata": {},
   "outputs": [
    {
     "data": {
      "image/png": "[encoded data removed]",
      "text/plain": [
       "<Figure size 432x288 with 1 Axes>"
      ]
     },
     "metadata": {
      "needs_background": "light"
     },
     "output_type": "display_data"
    }
   ],
   "source": [
    "x_variable = \"param_ica__n_components\"\n",
    "y_variable = \"param_mlp__hidden_layer_sizes\"\n",
    "z_variable = \"mean_test_score\"\n",
    "\n",
    "df_to_heatmap(results, x_variable, y_variable, z_variable, fontsize=11, title=f'{dim_red_name.upper()}', xlabel='Number of Components', ylabel='Hidden Layer Sizes', savefig=f'{casename}_gs.png')"
   ]
  },
  {
   "cell_type": "code",
   "execution_count": 23,
   "metadata": {},
   "outputs": [
    {
     "data": {
      "image/png": "[encoded data removed]",
      "text/plain": [
       "<Figure size 432x288 with 1 Axes>"
      ]
     },
     "metadata": {
      "needs_background": "light"
     },
     "output_type": "display_data"
    }
   ],
   "source": [
    "x_variable = \"param_ica__n_components\"\n",
    "z_variable = \"mean_test_score\"\n",
    "best_scores = get_max_along_df_axis(results, z_variable, x_variable)\n",
    "fig, ax = plt.subplots()\n",
    "ax.plot(best_scores[:, 0], best_scores[:, 1], '.:', label='MLP fit on ICA')\n",
    "ax.set_xlabel(\"Number of Components\")\n",
    "ax.set_ylabel(\"Score (Accuracy)\")\n",
    "plt.show()"
   ]
  },
  {
   "cell_type": "code",
   "execution_count": 49,
   "metadata": {},
   "outputs": [
    {
     "name": "stderr",
     "output_type": "stream",
     "text": [
      "C:\\Users\\Scribs\\Anaconda3\\lib\\site-packages\\sklearn\\decomposition\\fastica_.py:121: ConvergenceWarning: FastICA did not converge. Consider increasing tolerance or the maximum number of iterations.\n",
      "  ConvergenceWarning)\n"
     ]
    }
   ],
   "source": [
    "kurt_pipe = Pipeline([('scaler', StandardScaler()),\n",
    "                  (f'{dim_red_name}', FastICA(n_components=784, random_state=random_state, max_iter=max_iter))])\n",
    "kurt_pipe.fit(X, y)\n",
    "X_transformed = kurt_pipe.transform(X)\n",
    "df_ICA_components = pd.DataFrame(X_transformed)\n",
    "k_sorted = df_ICA_components.kurt(axis=0).abs().sort_values(ascending=False)"
   ]
  },
  {
   "cell_type": "code",
   "execution_count": 50,
   "metadata": {},
   "outputs": [
    {
     "data": {
      "text/plain": [
       "Text(0, 0.5, 'Kurtosis')"
      ]
     },
     "execution_count": 50,
     "metadata": {},
     "output_type": "execute_result"
    },
    {
     "data": {
      "image/png": "[encoded data removed]",
      "text/plain": [
       "<Figure size 720x360 with 1 Axes>"
      ]
     },
     "metadata": {
      "needs_background": "light"
     },
     "output_type": "display_data"
    }
   ],
   "source": [
    "fig, ax = plt.subplots(figsize=(10, 5))\n",
    "\n",
    "ax.plot(range(len(k_sorted)), k_sorted, )\n",
    "ax.set_xticklabels(k_sorted.index, rotation='vertical')\n",
    "ax.set_xticks(range(len(k_sorted)))\n",
    "# plt.xticks(k_sorted.index)\n",
    "# ax.xticks(k_sorted.index)\n",
    "# ax.xaxis.set_major_locator(MaxNLocator(len(k_sorted.index), integer=True))\n",
    "ax.set_xlabel(\"Component Index\")\n",
    "ax.set_ylabel(\"Kurtosis\")"
   ]
  },
  {
   "cell_type": "code",
   "execution_count": null,
   "metadata": {},
   "outputs": [],
   "source": []
  }
 ],
 "metadata": {
  "kernelspec": {
   "display_name": "Python 3",
   "language": "python",
   "name": "python3"
  },
  "language_info": {
   "codemirror_mode": {
    "name": "ipython",
    "version": 3
   },
   "file_extension": ".py",
   "mimetype": "text/x-python",
   "name": "python",
   "nbconvert_exporter": "python",
   "pygments_lexer": "ipython3",
   "version": "3.7.2"
  }
 },
 "nbformat": 4,
 "nbformat_minor": 2
}
